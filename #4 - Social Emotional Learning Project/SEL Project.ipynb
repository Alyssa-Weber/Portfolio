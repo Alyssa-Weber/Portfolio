{
 "cells": [
  {
   "cell_type": "markdown",
   "metadata": {
    "id": "fklWUyJucsBh"
   },
   "source": [
    "SEL Project\n",
    "\n",
    "Author: Alyssa Weber\n",
    "\n",
    "11/18/2022"
   ]
  },
  {
   "cell_type": "markdown",
   "metadata": {
    "id": "8yO5GFJztc5r"
   },
   "source": [
    "# Statistical Question/Hypothesis"
   ]
  },
  {
   "cell_type": "markdown",
   "metadata": {
    "id": "AXyK9F2ltk2c"
   },
   "source": [
    "It is my 8th year teaching high school mathematics. Since the pandemic of 2022, I have observed an increase in prioritization in education regarding Social Emotional Learning (SEL). For this final project, I have chosen to use student data from my 2022-2023 classes collected through a education-based social emotional survey named \"DESSA\". More information about this survey can be found here: [Aperture Information](https://apertureed.com/dessa/). \n",
    "\n",
    "I would like to know if there is a certain strand of SEL data that generally predicts the overal SEL composite score of a student. Although each student is unique when it comes to their social needs, I wonder if focusing on a particular strand within the classroom would result in an increase of overall SEL composite scores. For the purposes of statistical analysis, I will focus on one strand. \n",
    "\n",
    "Do Relationship Skill scores (RS) impact the SEC composite score?"
   ]
  },
  {
   "cell_type": "markdown",
   "metadata": {
    "id": "KsofyM5hc4hy"
   },
   "source": [
    "# Data Selection and Cleaning"
   ]
  },
  {
   "cell_type": "code",
   "execution_count": 2,
   "metadata": {
    "colab": {
     "base_uri": "https://localhost:8080/"
    },
    "id": "z1v0YrnHeQaK",
    "outputId": "e93a94b5-75a3-42cd-927f-6d23740e0208"
   },
   "outputs": [
    {
     "name": "stdout",
     "output_type": "stream",
     "text": [
      "Student\n",
      "Attachments\n",
      "smartFORMS\n",
      "Comments\n",
      "Tags\n",
      "Interventions\n",
      " DM TScore-DESSA \n",
      " GB TScore-DESSA \n",
      " PR TScore-DESSA \n",
      " RS TScore-DESSA \n",
      " SA/OT TScore-DESSA \n",
      " SEC TScore-DESSA \n",
      " SM TScore-DESSA \n",
      " SO TScore-DESSA \n"
     ]
    }
   ],
   "source": [
    "# import the student Dessa data and print the column headers\n",
    "import pandas as pd\n",
    "\n",
    "sel_df = pd.read_csv(\"SELData.csv\")\n",
    "for col in sel_df.columns:\n",
    "  print(col)"
   ]
  },
  {
   "cell_type": "markdown",
   "metadata": {
    "id": "5CD2Vd_xiYAO"
   },
   "source": [
    "For anonymity and because I am interested in general trends rather than \n",
    "individual data points, I will remove the \"Student\" column. \n",
    "\n",
    "Previously looking through the data, I observed that columns names \"Attachements\", \"smartFORMS\", \"Comments\", and \"Interventions\" have no data entries other than a 0 or null and will therefore also be removed. "
   ]
  },
  {
   "cell_type": "markdown",
   "metadata": {
    "id": "UYLL5XlLjbM0"
   },
   "source": [
    "The following columns of interest for this project include:\n",
    "\n",
    "1.   Tags\n",
    "> Tags include values of \"AVID Enrolled 2022-2023\", \"College Level Course Enrolled 2021-2022\", or NaN. Although the Tags are used spariningly, it may provide insight into SEL scores. I will keep this column in the final data frame, but will need to perform some data cleaning for it to be useful data.\n",
    "\n",
    "\n",
    "The remaining columns are all Dessa Scores. It is important to note that the scores should range from 0-100 and were derived from a self-reported survey that each student took. Not all students took this survey due to absences, refusal, or other factors. A score of 0-41 indicates that a student needs instruction. A score of 41-61 is considered typical. A score of 61-100 is considered a strength. Each of these columns uses an abbreviated name. When building the project data frame I plan on renaming these variables. Because I am interested in finding a strand that best predicts the composite score, I will keep all of the following variables. \n",
    "\n",
    "2. DM TScore-DESSA stands for Decision Making\n",
    "3. GB TScore-DESSA stands for Goal-Directed Behavior\n",
    "4. PR TScore-DESSA stands for Personal Responsibility\n",
    "5. RS TScore-DESSA stands for Relationship Skills\n",
    "6. SA/OT TScore-DESSA stands for Self-Awareness/Optimistic Thinking\n",
    "7. SEC TScore-DESSA stands for Composite (or overall) Score\n",
    "8. SM TScore-DESSA stands for Self-Management\n",
    "9. SO TScore-DESSAstands for Social Awareness\n",
    "\n",
    "\n",
    "\n",
    "\n",
    "\n",
    "\n"
   ]
  },
  {
   "cell_type": "code",
   "execution_count": 3,
   "metadata": {
    "id": "mRZeLCRC2Y-8"
   },
   "outputs": [],
   "source": [
    "# remove unnecessary columns from the data frame\n",
    "del sel_df[\"Student\"]\n",
    "del sel_df[\"Attachments\"]\n",
    "del sel_df[\"smartFORMS\"]\n",
    "del sel_df[\"Comments\"]\n",
    "del sel_df[\"Interventions\"]\n",
    "\n"
   ]
  },
  {
   "cell_type": "code",
   "execution_count": 4,
   "metadata": {
    "id": "jRJFHNZiiVBu"
   },
   "outputs": [],
   "source": [
    "# rename the columns\n",
    "\n",
    "sel_df = sel_df.rename(columns={\" DM TScore-DESSA \": \"DM\", \n",
    "                                \" GB TScore-DESSA \": \"GB\", \n",
    "                                \" PR TScore-DESSA \": \"PR\", \n",
    "                                \" RS TScore-DESSA \": \"RS\", \n",
    "                                \" SA/OT TScore-DESSA \": \"SA/OT\", \n",
    "                                \" SEC TScore-DESSA \": \"SEC\", \n",
    "                                \" SM TScore-DESSA \": \"SM\", \n",
    "                                \" SO TScore-DESSA \": \"SO\" })\n"
   ]
  },
  {
   "cell_type": "code",
   "execution_count": 5,
   "metadata": {
    "id": "wrGf9VON7uXQ"
   },
   "outputs": [],
   "source": [
    "# update the Column \"Tags\" inputs\n",
    "## NAN - change to a value of zero\n",
    "## AVID Enrolled 2022-2023 - change to a value of 1\n",
    "## College Level Course Enrolled 2021-2022 - change to a value of 2\n",
    "\n",
    "sel_df = sel_df.fillna(0)\n",
    "sel_df['Tags'] = sel_df['Tags'].replace(['AVID Enrolled 2022-2023'], int(1))\n",
    "sel_df['Tags'] = sel_df['Tags'].replace(['College Level Course Enrolled 2021-2022'], int(2))\n"
   ]
  },
  {
   "cell_type": "code",
   "execution_count": 6,
   "metadata": {
    "colab": {
     "base_uri": "https://localhost:8080/"
    },
    "id": "UGMpkpCs7Ksa",
    "outputId": "0c169449-7e3c-48c7-8b3d-47b9cbbf7f4c"
   },
   "outputs": [
    {
     "name": "stdout",
     "output_type": "stream",
     "text": [
      "   Tags    DM    GB    PR    RS  SA/OT   SEC    SM    SO\n",
      "0     0  36.0  41.0  33.0  38.0   42.0  37.0  42.0  35.0\n",
      "1     0  33.0  41.0  41.0  41.0   42.0  40.0  39.0  48.0\n",
      "2     0  28.0  34.0  37.0  48.0   32.0  34.0  37.0  35.0\n",
      "3     0  29.0  45.0  39.0  38.0   48.0  41.0  50.0  44.0\n",
      "4     0  39.0  41.0  37.0  41.0   42.0  42.0  47.0  52.0\n",
      "    Tags     DM     GB     PR     RS  SA/OT    SEC     SM    SO\n",
      "89     0  61.00  43.00  37.00  64.00  52.00  53.00  67.00  48.0\n",
      "90     0  67.00  68.00  67.00  64.00  71.00  72.00  67.00  64.0\n",
      "91     0  64.00  65.00  56.00  56.00  56.00  62.00  65.00  64.0\n",
      "92     0  67.00  53.00  56.00  64.00  71.00  64.00  65.00  60.0\n",
      "93     0  43.77  43.26  43.78  46.88  44.78  43.81  44.58  45.6\n"
     ]
    }
   ],
   "source": [
    "#preview the revised data frame\n",
    "print(sel_df.head())\n",
    "print(sel_df.tail())"
   ]
  },
  {
   "cell_type": "code",
   "execution_count": 7,
   "metadata": {
    "id": "uTMRuzbr9_7F"
   },
   "outputs": [],
   "source": [
    "# delete the last row since it displays student averages\n",
    "sel_df = sel_df.drop(labels=93, axis=0)"
   ]
  },
  {
   "cell_type": "code",
   "execution_count": 8,
   "metadata": {
    "colab": {
     "base_uri": "https://localhost:8080/"
    },
    "id": "18RsDS_g-Mwl",
    "outputId": "1b919f0c-b17a-4827-9deb-f08bd00ec23c"
   },
   "outputs": [
    {
     "name": "stdout",
     "output_type": "stream",
     "text": [
      "   Tags    DM    GB    PR    RS  SA/OT   SEC    SM    SO\n",
      "0     0  36.0  41.0  33.0  38.0   42.0  37.0  42.0  35.0\n",
      "1     0  33.0  41.0  41.0  41.0   42.0  40.0  39.0  48.0\n",
      "2     0  28.0  34.0  37.0  48.0   32.0  34.0  37.0  35.0\n",
      "3     0  29.0  45.0  39.0  38.0   48.0  41.0  50.0  44.0\n",
      "4     0  39.0  41.0  37.0  41.0   42.0  42.0  47.0  52.0\n",
      "    Tags    DM    GB    PR    RS  SA/OT   SEC    SM    SO\n",
      "88     0  61.0  38.0  29.0  48.0   46.0  45.0  56.0  44.0\n",
      "89     0  61.0  43.0  37.0  64.0   52.0  53.0  67.0  48.0\n",
      "90     0  67.0  68.0  67.0  64.0   71.0  72.0  67.0  64.0\n",
      "91     0  64.0  65.0  56.0  56.0   56.0  62.0  65.0  64.0\n",
      "92     0  67.0  53.0  56.0  64.0   71.0  64.0  65.0  60.0\n"
     ]
    }
   ],
   "source": [
    "#preview the revised data frame again\n",
    "print(sel_df.head())\n",
    "print(sel_df.tail())"
   ]
  },
  {
   "cell_type": "markdown",
   "metadata": {
    "id": "lasT21-mBToY"
   },
   "source": [
    "# Histograms of the Variables"
   ]
  },
  {
   "cell_type": "code",
   "execution_count": 9,
   "metadata": {
    "id": "1AlfEpdJGQ9n"
   },
   "outputs": [],
   "source": [
    "import matplotlib.pyplot as plt"
   ]
  },
  {
   "cell_type": "code",
   "execution_count": 10,
   "metadata": {
    "colab": {
     "base_uri": "https://localhost:8080/",
     "height": 312
    },
    "id": "J1-HtcU3EDtE",
    "outputId": "37b1d1e2-d6ee-44cd-9038-fc74a65d3b4f"
   },
   "outputs": [
    {
     "data": {
      "text/plain": [
       "Text(0, 0.5, 'Number of Students')"
      ]
     },
     "execution_count": 10,
     "metadata": {},
     "output_type": "execute_result"
    },
    {
     "data": {
      "image/png": "[encoded data removed]",
      "text/plain": [
       "<Figure size 432x288 with 1 Axes>"
      ]
     },
     "metadata": {
      "needs_background": "light"
     },
     "output_type": "display_data"
    }
   ],
   "source": [
    "sel_df[\"SEC\"].plot(kind = 'hist',\n",
    "        bins = 10,\n",
    "        range = (0,100),\n",
    "        title = 'SEL Composite Score',\n",
    "        grid = True)\n",
    "plt.xlabel('Score')\n",
    "plt.ylabel('Number of Students')"
   ]
  },
  {
   "cell_type": "code",
   "execution_count": 11,
   "metadata": {
    "colab": {
     "base_uri": "https://localhost:8080/",
     "height": 312
    },
    "id": "vH_YaovgIDKO",
    "outputId": "f419b83d-fc7a-49a5-83bc-8aa045b8d387"
   },
   "outputs": [
    {
     "data": {
      "text/plain": [
       "Text(0, 0.5, 'Number of Students')"
      ]
     },
     "execution_count": 11,
     "metadata": {},
     "output_type": "execute_result"
    },
    {
     "data": {
      "image/png": "[encoded data removed]",
      "text/plain": [
       "<Figure size 432x288 with 1 Axes>"
      ]
     },
     "metadata": {
      "needs_background": "light"
     },
     "output_type": "display_data"
    }
   ],
   "source": [
    "sel_df[\"DM\"].plot(kind = 'hist',\n",
    "        bins = 10,\n",
    "        range = (0,100),\n",
    "        title = 'Decision Making',\n",
    "        grid = True)\n",
    "plt.xlabel('Score')\n",
    "plt.ylabel('Number of Students')"
   ]
  },
  {
   "cell_type": "code",
   "execution_count": 12,
   "metadata": {
    "colab": {
     "base_uri": "https://localhost:8080/",
     "height": 312
    },
    "id": "G6OZ2fSrJzs5",
    "outputId": "6cc50d8c-cb02-4096-a8f8-b198083120cb"
   },
   "outputs": [
    {
     "data": {
      "text/plain": [
       "Text(0, 0.5, 'Number of Students')"
      ]
     },
     "execution_count": 12,
     "metadata": {},
     "output_type": "execute_result"
    },
    {
     "data": {
      "image/png": "[encoded data removed]",
      "text/plain": [
       "<Figure size 432x288 with 1 Axes>"
      ]
     },
     "metadata": {
      "needs_background": "light"
     },
     "output_type": "display_data"
    }
   ],
   "source": [
    "sel_df[\"GB\"].plot(kind = 'hist',\n",
    "        bins = 10,\n",
    "        range = (0,100),\n",
    "        title = 'Goal-Directed Behavior',\n",
    "        grid = True)\n",
    "plt.xlabel('Score')\n",
    "plt.ylabel('Number of Students')"
   ]
  },
  {
   "cell_type": "code",
   "execution_count": 13,
   "metadata": {
    "colab": {
     "base_uri": "https://localhost:8080/",
     "height": 312
    },
    "id": "wAHWTJWLKKFP",
    "outputId": "4923c6b8-b5c5-4be4-cf2e-432f5639e1d7"
   },
   "outputs": [
    {
     "data": {
      "text/plain": [
       "Text(0, 0.5, 'Number of Students')"
      ]
     },
     "execution_count": 13,
     "metadata": {},
     "output_type": "execute_result"
    },
    {
     "data": {
      "image/png": "[encoded data removed]",
      "text/plain": [
       "<Figure size 432x288 with 1 Axes>"
      ]
     },
     "metadata": {
      "needs_background": "light"
     },
     "output_type": "display_data"
    }
   ],
   "source": [
    "sel_df[\"PR\"].plot(kind = 'hist',\n",
    "        bins = 10,\n",
    "        range = (0,100),\n",
    "        title = 'Personal Responsibility',\n",
    "        grid = True)\n",
    "plt.xlabel('Score')\n",
    "plt.ylabel('Number of Students')"
   ]
  },
  {
   "cell_type": "code",
   "execution_count": 14,
   "metadata": {
    "colab": {
     "base_uri": "https://localhost:8080/",
     "height": 312
    },
    "id": "nRzNdB4tKLyD",
    "outputId": "885a562e-00e7-43ed-9756-7dec40cd239e"
   },
   "outputs": [
    {
     "data": {
      "text/plain": [
       "Text(0, 0.5, 'Number of Students')"
      ]
     },
     "execution_count": 14,
     "metadata": {},
     "output_type": "execute_result"
    },
    {
     "data": {
      "image/png": "[encoded data removed]",
      "text/plain": [
       "<Figure size 432x288 with 1 Axes>"
      ]
     },
     "metadata": {
      "needs_background": "light"
     },
     "output_type": "display_data"
    }
   ],
   "source": [
    "sel_df[\"RS\"].plot(kind = 'hist',\n",
    "        bins = 10,\n",
    "        range = (0,100),\n",
    "        title = 'Relationship Skills',\n",
    "        grid = True)\n",
    "plt.xlabel('Score')\n",
    "plt.ylabel('Number of Students')"
   ]
  },
  {
   "cell_type": "code",
   "execution_count": 15,
   "metadata": {
    "colab": {
     "base_uri": "https://localhost:8080/",
     "height": 312
    },
    "id": "K5TjfAclKLl8",
    "outputId": "93f5684e-8ce2-43aa-bfcc-082758c01a92"
   },
   "outputs": [
    {
     "data": {
      "text/plain": [
       "Text(0, 0.5, 'Number of Students')"
      ]
     },
     "execution_count": 15,
     "metadata": {},
     "output_type": "execute_result"
    },
    {
     "data": {
      "image/png": "[encoded data removed]",
      "text/plain": [
       "<Figure size 432x288 with 1 Axes>"
      ]
     },
     "metadata": {
      "needs_background": "light"
     },
     "output_type": "display_data"
    }
   ],
   "source": [
    "sel_df[\"SA/OT\"].plot(kind = 'hist',\n",
    "        bins = 10,\n",
    "        range = (0,100),\n",
    "        title = 'Self-Awareness/Optimistic Thinking',\n",
    "        grid = True)\n",
    "plt.xlabel('Score')\n",
    "plt.ylabel('Number of Students')"
   ]
  },
  {
   "cell_type": "code",
   "execution_count": 16,
   "metadata": {
    "colab": {
     "base_uri": "https://localhost:8080/",
     "height": 312
    },
    "id": "DeOXz6uWKLX5",
    "outputId": "946ccc23-4e7f-44b5-bea7-a1b84c45ada7"
   },
   "outputs": [
    {
     "data": {
      "text/plain": [
       "Text(0, 0.5, 'Number of Students')"
      ]
     },
     "execution_count": 16,
     "metadata": {},
     "output_type": "execute_result"
    },
    {
     "data": {
      "image/png": "[encoded data removed]",
      "text/plain": [
       "<Figure size 432x288 with 1 Axes>"
      ]
     },
     "metadata": {
      "needs_background": "light"
     },
     "output_type": "display_data"
    }
   ],
   "source": [
    "sel_df[\"SM\"].plot(kind = 'hist',\n",
    "        bins = 10,\n",
    "        range = (0,100),\n",
    "        title = 'Self-Management',\n",
    "        grid = True)\n",
    "plt.xlabel('Score')\n",
    "plt.ylabel('Number of Students')"
   ]
  },
  {
   "cell_type": "code",
   "execution_count": 17,
   "metadata": {
    "colab": {
     "base_uri": "https://localhost:8080/",
     "height": 312
    },
    "id": "1okDoTYLKK0B",
    "outputId": "2b734f54-59ca-48b1-c2a9-a6e9e3b11bdc"
   },
   "outputs": [
    {
     "data": {
      "text/plain": [
       "Text(0, 0.5, 'Number of Students')"
      ]
     },
     "execution_count": 17,
     "metadata": {},
     "output_type": "execute_result"
    },
    {
     "data": {
      "image/png": "[encoded data removed]",
      "text/plain": [
       "<Figure size 432x288 with 1 Axes>"
      ]
     },
     "metadata": {
      "needs_background": "light"
     },
     "output_type": "display_data"
    }
   ],
   "source": [
    "sel_df[\"SO\"].plot(kind = 'hist',\n",
    "        bins = 10,\n",
    "        range = (0,100),\n",
    "        title = 'Social Awareness',\n",
    "        grid = True)\n",
    "plt.xlabel('Score')\n",
    "plt.ylabel('Number of Students')"
   ]
  },
  {
   "cell_type": "markdown",
   "metadata": {
    "id": "RKcg6a5RO1CD"
   },
   "source": [
    "# Descriptive Characteristics"
   ]
  },
  {
   "cell_type": "code",
   "execution_count": 18,
   "metadata": {
    "colab": {
     "base_uri": "https://localhost:8080/",
     "height": 300
    },
    "id": "Yt8gEfrRVYqq",
    "outputId": "d224f239-1148-462e-8a6e-b467a39ef8a8"
   },
   "outputs": [
    {
     "data": {
      "text/html": [
       "<div>\n",
       "<style scoped>\n",
       "    .dataframe tbody tr th:only-of-type {\n",
       "        vertical-align: middle;\n",
       "    }\n",
       "\n",
       "    .dataframe tbody tr th {\n",
       "        vertical-align: top;\n",
       "    }\n",
       "\n",
       "    .dataframe thead th {\n",
       "        text-align: right;\n",
       "    }\n",
       "</style>\n",
       "<table border=\"1\" class=\"dataframe\">\n",
       "  <thead>\n",
       "    <tr style=\"text-align: right;\">\n",
       "      <th></th>\n",
       "      <th>Tags</th>\n",
       "      <th>DM</th>\n",
       "      <th>GB</th>\n",
       "      <th>PR</th>\n",
       "      <th>RS</th>\n",
       "      <th>SA/OT</th>\n",
       "      <th>SEC</th>\n",
       "      <th>SM</th>\n",
       "      <th>SO</th>\n",
       "    </tr>\n",
       "  </thead>\n",
       "  <tbody>\n",
       "    <tr>\n",
       "      <th>count</th>\n",
       "      <td>93.000000</td>\n",
       "      <td>93.000000</td>\n",
       "      <td>93.000000</td>\n",
       "      <td>93.000000</td>\n",
       "      <td>93.000000</td>\n",
       "      <td>93.000000</td>\n",
       "      <td>93.000000</td>\n",
       "      <td>93.000000</td>\n",
       "      <td>93.000000</td>\n",
       "    </tr>\n",
       "    <tr>\n",
       "      <th>mean</th>\n",
       "      <td>0.268817</td>\n",
       "      <td>43.774194</td>\n",
       "      <td>43.258065</td>\n",
       "      <td>43.784946</td>\n",
       "      <td>46.881720</td>\n",
       "      <td>44.784946</td>\n",
       "      <td>43.806452</td>\n",
       "      <td>44.580645</td>\n",
       "      <td>45.602151</td>\n",
       "    </tr>\n",
       "    <tr>\n",
       "      <th>std</th>\n",
       "      <td>0.627967</td>\n",
       "      <td>11.185325</td>\n",
       "      <td>9.517608</td>\n",
       "      <td>10.245730</td>\n",
       "      <td>9.970445</td>\n",
       "      <td>10.315511</td>\n",
       "      <td>10.133091</td>\n",
       "      <td>10.982518</td>\n",
       "      <td>9.354306</td>\n",
       "    </tr>\n",
       "    <tr>\n",
       "      <th>min</th>\n",
       "      <td>0.000000</td>\n",
       "      <td>28.000000</td>\n",
       "      <td>28.000000</td>\n",
       "      <td>28.000000</td>\n",
       "      <td>28.000000</td>\n",
       "      <td>28.000000</td>\n",
       "      <td>28.000000</td>\n",
       "      <td>28.000000</td>\n",
       "      <td>28.000000</td>\n",
       "    </tr>\n",
       "    <tr>\n",
       "      <th>25%</th>\n",
       "      <td>0.000000</td>\n",
       "      <td>33.000000</td>\n",
       "      <td>36.000000</td>\n",
       "      <td>37.000000</td>\n",
       "      <td>38.000000</td>\n",
       "      <td>38.000000</td>\n",
       "      <td>37.000000</td>\n",
       "      <td>35.000000</td>\n",
       "      <td>40.000000</td>\n",
       "    </tr>\n",
       "    <tr>\n",
       "      <th>50%</th>\n",
       "      <td>0.000000</td>\n",
       "      <td>44.000000</td>\n",
       "      <td>43.000000</td>\n",
       "      <td>41.000000</td>\n",
       "      <td>48.000000</td>\n",
       "      <td>46.000000</td>\n",
       "      <td>43.000000</td>\n",
       "      <td>45.000000</td>\n",
       "      <td>48.000000</td>\n",
       "    </tr>\n",
       "    <tr>\n",
       "      <th>75%</th>\n",
       "      <td>0.000000</td>\n",
       "      <td>51.000000</td>\n",
       "      <td>50.000000</td>\n",
       "      <td>50.000000</td>\n",
       "      <td>56.000000</td>\n",
       "      <td>51.000000</td>\n",
       "      <td>51.000000</td>\n",
       "      <td>53.000000</td>\n",
       "      <td>54.000000</td>\n",
       "    </tr>\n",
       "    <tr>\n",
       "      <th>max</th>\n",
       "      <td>2.000000</td>\n",
       "      <td>67.000000</td>\n",
       "      <td>68.000000</td>\n",
       "      <td>67.000000</td>\n",
       "      <td>64.000000</td>\n",
       "      <td>71.000000</td>\n",
       "      <td>72.000000</td>\n",
       "      <td>67.000000</td>\n",
       "      <td>64.000000</td>\n",
       "    </tr>\n",
       "  </tbody>\n",
       "</table>\n",
       "</div>"
      ],
      "text/plain": [
       "            Tags         DM         GB         PR         RS      SA/OT  \\\n",
       "count  93.000000  93.000000  93.000000  93.000000  93.000000  93.000000   \n",
       "mean    0.268817  43.774194  43.258065  43.784946  46.881720  44.784946   \n",
       "std     0.627967  11.185325   9.517608  10.245730   9.970445  10.315511   \n",
       "min     0.000000  28.000000  28.000000  28.000000  28.000000  28.000000   \n",
       "25%     0.000000  33.000000  36.000000  37.000000  38.000000  38.000000   \n",
       "50%     0.000000  44.000000  43.000000  41.000000  48.000000  46.000000   \n",
       "75%     0.000000  51.000000  50.000000  50.000000  56.000000  51.000000   \n",
       "max     2.000000  67.000000  68.000000  67.000000  64.000000  71.000000   \n",
       "\n",
       "             SEC         SM         SO  \n",
       "count  93.000000  93.000000  93.000000  \n",
       "mean   43.806452  44.580645  45.602151  \n",
       "std    10.133091  10.982518   9.354306  \n",
       "min    28.000000  28.000000  28.000000  \n",
       "25%    37.000000  35.000000  40.000000  \n",
       "50%    43.000000  45.000000  48.000000  \n",
       "75%    51.000000  53.000000  54.000000  \n",
       "max    72.000000  67.000000  64.000000  "
      ]
     },
     "execution_count": 18,
     "metadata": {},
     "output_type": "execute_result"
    }
   ],
   "source": [
    "sel_df.describe()"
   ]
  },
  {
   "cell_type": "markdown",
   "metadata": {
    "id": "XWlZ5GPbWdDs"
   },
   "source": [
    "# PMF"
   ]
  },
  {
   "cell_type": "code",
   "execution_count": 19,
   "metadata": {
    "id": "w1xSyC9QnDw3"
   },
   "outputs": [],
   "source": [
    "import seaborn as sns"
   ]
  },
  {
   "cell_type": "code",
   "execution_count": 20,
   "metadata": {
    "id": "wLp6S-HUnvXl"
   },
   "outputs": [],
   "source": [
    "notag = sel_df[sel_df.Tags == 0]\n",
    "tag = sel_df[sel_df.Tags != 0]"
   ]
  },
  {
   "cell_type": "code",
   "execution_count": 21,
   "metadata": {
    "colab": {
     "base_uri": "https://localhost:8080/",
     "height": 285
    },
    "id": "IfaHsogztjr7",
    "outputId": "af238976-6330-4faa-888c-222c587ef93b"
   },
   "outputs": [
    {
     "data": {
      "image/png": "[encoded data removed]",
      "text/plain": [
       "<Figure size 432x288 with 1 Axes>"
      ]
     },
     "metadata": {},
     "output_type": "display_data"
    }
   ],
   "source": [
    "# note this is a density curve, rather than a PMF, but it shows very similar data\n",
    "# I could not figure out how to split the data and also plot them together in a \n",
    "# PMF\n",
    "sns.set(style=\"darkgrid\")\n",
    "fig = sns.kdeplot(notag['SEC'], shade=True, color=\"r\", label = \"no tag\")\n",
    "fig = sns.kdeplot(tag['SEC'], shade=True, color=\"b\", label = \"tag\")\n",
    "plt.legend(loc=\"upper right\")\n",
    "plt.show()"
   ]
  },
  {
   "cell_type": "markdown",
   "metadata": {
    "id": "DuaUBXNDyVTK"
   },
   "source": [
    "# CDF"
   ]
  },
  {
   "cell_type": "code",
   "execution_count": 22,
   "metadata": {
    "id": "YemcaEsEyXLt"
   },
   "outputs": [],
   "source": [
    "# code sourced from book \"Think Stats 2nd Edition\" pg 41 \n",
    "def EvalCdf(t,x):\n",
    "  count = 0.0\n",
    "  for value in t:\n",
    "    if value <= x:\n",
    "      count += 1\n",
    "\n",
    "  prob = count/ len(t)\n",
    "  return prob"
   ]
  },
  {
   "cell_type": "code",
   "execution_count": 23,
   "metadata": {
    "id": "Y04lvN1D2B7e"
   },
   "outputs": [
    {
     "name": "stdout",
     "output_type": "stream",
     "text": [
      "Downloaded thinkstats2.py\n",
      "Downloaded thinkplot.py\n"
     ]
    }
   ],
   "source": [
    "from os.path import basename, exists\n",
    "\n",
    "\n",
    "def download(url):\n",
    "    filename = basename(url)\n",
    "    if not exists(filename):\n",
    "        from urllib.request import urlretrieve\n",
    "\n",
    "        local, _ = urlretrieve(url, filename)\n",
    "        print(\"Downloaded \" + local)\n",
    "\n",
    "\n",
    "download(\"https://github.com/AllenDowney/ThinkStats2/raw/master/code/thinkstats2.py\")\n",
    "download(\"https://github.com/AllenDowney/ThinkStats2/raw/master/code/thinkplot.py\")"
   ]
  },
  {
   "cell_type": "code",
   "execution_count": 24,
   "metadata": {
    "id": "soFq6gFQ2C_J"
   },
   "outputs": [],
   "source": [
    "import thinkstats2\n",
    "import thinkplot"
   ]
  },
  {
   "cell_type": "code",
   "execution_count": 25,
   "metadata": {
    "colab": {
     "base_uri": "https://localhost:8080/",
     "height": 302
    },
    "id": "sQ5dFxTr1zMD",
    "outputId": "a680f3df-512b-4408-88a2-f72c191ec73a"
   },
   "outputs": [
    {
     "data": {
      "image/png": "[encoded data removed]",
      "text/plain": [
       "<Figure size 432x288 with 1 Axes>"
      ]
     },
     "metadata": {},
     "output_type": "display_data"
    },
    {
     "data": {
      "text/plain": [
       "<Figure size 576x432 with 0 Axes>"
      ]
     },
     "metadata": {},
     "output_type": "display_data"
    }
   ],
   "source": [
    "sec_cdf = thinkstats2.Cdf(sel_df.SEC, label = 'SEL Composite Score')\n",
    "thinkplot.Cdf(sec_cdf)\n",
    "thinkplot.Show(xlabel = 'score', ylabel = 'CDF')"
   ]
  },
  {
   "cell_type": "markdown",
   "metadata": {
    "id": "kJUiMbnA_Jig"
   },
   "source": [
    "The curve of SEL composite scores appear to be skewed slightly right. This might make it more difficult to predict values of students in a larger population. From this graph we can comfirm the median is around 43 points, the max is abnout 73, and the min is about 28. "
   ]
  },
  {
   "cell_type": "markdown",
   "metadata": {
    "id": "Ixegy56CFryO"
   },
   "source": [
    "# Analytical Distribution"
   ]
  },
  {
   "cell_type": "code",
   "execution_count": 26,
   "metadata": {
    "id": "u9xXOdiTrZ9D"
   },
   "outputs": [],
   "source": [
    "# code edited from book \"Think Stats 2nd Edition\" pg 54\n",
    "def MakeNormalPlot(scores):\n",
    "    mean = scores.mean()\n",
    "    std = scores.std()\n",
    "\n",
    "    xs = [-4,4]\n",
    "    fxs, fys = thinkstats2.FitLine(xs, inter=mean, slope = std)\n",
    "    thinkplot.plot(fxs, fys, color = 'gray', label = 'model')\n",
    "\n",
    "    xs, ys = thinkstats2.NormalProbability(scores)\n",
    "    thinkplot.Plot(xs, ys, label = 'Dessa Scores')"
   ]
  },
  {
   "cell_type": "code",
   "execution_count": 27,
   "metadata": {
    "colab": {
     "base_uri": "https://localhost:8080/",
     "height": 268
    },
    "id": "ntaYHPVpseNk",
    "outputId": "3d30e5d9-8e0d-46ba-caf1-e9c406b34dc4"
   },
   "outputs": [
    {
     "data": {
      "image/png": "[encoded data removed]",
      "text/plain": [
       "<Figure size 432x288 with 1 Axes>"
      ]
     },
     "metadata": {},
     "output_type": "display_data"
    }
   ],
   "source": [
    "# Normal Probability Plot\n",
    "# Testing to see if the composite SEL scores shown in the CDF above are normal. \n",
    "MakeNormalPlot(sel_df[\"SEC\"])"
   ]
  },
  {
   "cell_type": "markdown",
   "metadata": {
    "id": "F-uExdKVtxy1"
   },
   "source": [
    "The composite SEL scores are somewhat normal from values of -1.5 standard deviations until 1.5 standard deviation. It is by no means perfectly fit to a\n",
    "normal curve. Again, this model shows the data is skewed right. "
   ]
  },
  {
   "cell_type": "markdown",
   "metadata": {
    "id": "CwGCJGpGvZQz"
   },
   "source": [
    "# Scatterplots with Analysis"
   ]
  },
  {
   "cell_type": "markdown",
   "metadata": {
    "id": "_btCkA7Xw10j"
   },
   "source": [
    "Since I am working with 9 distinct variables, I decided to run a heatmap with correlation to help decide which variables I should put into scatterplots for analysis. "
   ]
  },
  {
   "cell_type": "code",
   "execution_count": 28,
   "metadata": {
    "colab": {
     "base_uri": "https://localhost:8080/",
     "height": 289
    },
    "id": "1jBrGEqvveKQ",
    "outputId": "b146cd02-be50-4801-d3ad-e215dd41229a"
   },
   "outputs": [
    {
     "data": {
      "text/plain": [
       "<AxesSubplot:>"
      ]
     },
     "execution_count": 28,
     "metadata": {},
     "output_type": "execute_result"
    },
    {
     "data": {
      "image/png": "[encoded data removed]",
      "text/plain": [
       "<Figure size 432x288 with 2 Axes>"
      ]
     },
     "metadata": {},
     "output_type": "display_data"
    }
   ],
   "source": [
    "sns.heatmap(sel_df.corr(), annot=True)\n"
   ]
  },
  {
   "cell_type": "markdown",
   "metadata": {
    "id": "q_LeEx2txJos"
   },
   "source": [
    "My statistical wonderings asks if there are any variables that help predict the SEC variable. More specifically, do Relationship Skill (RS) scores impact SEC composite scores. Based on the heatmap above, I will look more closely at the relationships between SEC (composite scores) compared against SA/OT (Self Awareness/ Optomistic Thinking), since this has the highest correlation, and Relationship S (RS) since this is the area of focus. "
   ]
  },
  {
   "cell_type": "code",
   "execution_count": 29,
   "metadata": {
    "colab": {
     "base_uri": "https://localhost:8080/",
     "height": 285
    },
    "id": "cM0Urfx4yETD",
    "outputId": "60221e00-0ec2-4f72-e05b-54b0dfef8c12"
   },
   "outputs": [
    {
     "data": {
      "image/png": "[encoded data removed]",
      "text/plain": [
       "<Figure size 432x288 with 1 Axes>"
      ]
     },
     "metadata": {},
     "output_type": "display_data"
    }
   ],
   "source": [
    "#SEC vs SA/OT\n",
    "plt.scatter(sel_df[\"SA/OT\"], sel_df[\"SEC\"])\n",
    "plt.xlabel(\"SA/OT Scores\")\n",
    "plt.ylabel(\"SEC Scores\")\n",
    "plt.show()"
   ]
  },
  {
   "cell_type": "code",
   "execution_count": 30,
   "metadata": {
    "colab": {
     "base_uri": "https://localhost:8080/"
    },
    "id": "D6pjg5pYOCtJ",
    "outputId": "d61532c9-60e5-4bc5-9a4f-c404ed7c6647"
   },
   "outputs": [
    {
     "name": "stdout",
     "output_type": "stream",
     "text": [
      "0.908132825255854\n"
     ]
    }
   ],
   "source": [
    "# Pearson Correlation\n",
    "corr1 = sel_df['SA/OT'].corr(sel_df['SEC'], method = 'pearson')\n",
    "print(corr1)"
   ]
  },
  {
   "cell_type": "code",
   "execution_count": 31,
   "metadata": {
    "colab": {
     "base_uri": "https://localhost:8080/"
    },
    "id": "kGZPGTJAPO8n",
    "outputId": "5e5fac11-3478-4590-ebc3-115e0ec78459"
   },
   "outputs": [
    {
     "data": {
      "text/plain": [
       "0.8978807534629646"
      ]
     },
     "execution_count": 31,
     "metadata": {},
     "output_type": "execute_result"
    }
   ],
   "source": [
    "# Spearman Correlation\n",
    "sel_df['SA/OT'].corr(sel_df['SEC'], method = 'spearman')\n"
   ]
  },
  {
   "cell_type": "code",
   "execution_count": 32,
   "metadata": {
    "colab": {
     "base_uri": "https://localhost:8080/"
    },
    "id": "X09b0u8OQXle",
    "outputId": "556dcc18-a0a8-4396-ee65-95bc54d2da76"
   },
   "outputs": [
    {
     "data": {
      "text/plain": [
       "0.8247052283071795"
      ]
     },
     "execution_count": 32,
     "metadata": {},
     "output_type": "execute_result"
    }
   ],
   "source": [
    "# Correlation Coefficient\n",
    "corr1 * corr1"
   ]
  },
  {
   "cell_type": "code",
   "execution_count": 33,
   "metadata": {
    "colab": {
     "base_uri": "https://localhost:8080/"
    },
    "id": "c9dEATZJP_0f",
    "outputId": "27f24757-7c58-4334-8ce8-2234592e1c52"
   },
   "outputs": [
    {
     "data": {
      "text/plain": [
       "94.92531556802244"
      ]
     },
     "execution_count": 33,
     "metadata": {},
     "output_type": "execute_result"
    }
   ],
   "source": [
    "# Covariance\n",
    "sel_df['SA/OT'].cov(sel_df['SEC'])"
   ]
  },
  {
   "cell_type": "code",
   "execution_count": 34,
   "metadata": {
    "colab": {
     "base_uri": "https://localhost:8080/",
     "height": 285
    },
    "id": "_28ueLojyi8K",
    "outputId": "a3710753-2f36-4eef-ca5a-59ebfb4d77d5"
   },
   "outputs": [
    {
     "data": {
      "image/png": "[encoded data removed]",
      "text/plain": [
       "<Figure size 432x288 with 1 Axes>"
      ]
     },
     "metadata": {},
     "output_type": "display_data"
    }
   ],
   "source": [
    "#SEC vs PR\n",
    "plt.scatter(sel_df[\"RS\"], sel_df[\"SEC\"])\n",
    "plt.xlabel(\"RS Scores\")\n",
    "plt.ylabel(\"SEC Scores\")\n",
    "plt.show()"
   ]
  },
  {
   "cell_type": "code",
   "execution_count": 35,
   "metadata": {
    "colab": {
     "base_uri": "https://localhost:8080/"
    },
    "id": "ySeDKm5gOAQG",
    "outputId": "75b7035d-e672-47b8-f061-bfb3b49bbccf"
   },
   "outputs": [
    {
     "name": "stdout",
     "output_type": "stream",
     "text": [
      "0.8380809685320699\n"
     ]
    }
   ],
   "source": [
    "# Pearson Correlation\n",
    "corr2 = sel_df['RS'].corr(sel_df['SEC'], method = 'pearson')\n",
    "print(corr2)"
   ]
  },
  {
   "cell_type": "code",
   "execution_count": 36,
   "metadata": {
    "colab": {
     "base_uri": "https://localhost:8080/"
    },
    "id": "5_EZAUgPQxQA",
    "outputId": "98c25a54-6070-47e5-c4c3-21a470f807cb"
   },
   "outputs": [
    {
     "data": {
      "text/plain": [
       "0.8403558025365798"
      ]
     },
     "execution_count": 36,
     "metadata": {},
     "output_type": "execute_result"
    }
   ],
   "source": [
    "# Spearman Correlation\n",
    "sel_df['RS'].corr(sel_df['SEC'], method = 'spearman')"
   ]
  },
  {
   "cell_type": "code",
   "execution_count": 37,
   "metadata": {
    "colab": {
     "base_uri": "https://localhost:8080/"
    },
    "id": "3c0d-JEZRNKh",
    "outputId": "3a55f075-17a6-4903-df05-abd3591e5c9d"
   },
   "outputs": [
    {
     "data": {
      "text/plain": [
       "0.7023797098156523"
      ]
     },
     "execution_count": 37,
     "metadata": {},
     "output_type": "execute_result"
    }
   ],
   "source": [
    "# Correlation Coefficient\n",
    "corr2 * corr2"
   ]
  },
  {
   "cell_type": "code",
   "execution_count": 38,
   "metadata": {
    "colab": {
     "base_uri": "https://localhost:8080/"
    },
    "id": "D4M6b-IWRNCL",
    "outputId": "6c039e2f-d64c-46a9-df6f-76e3001612b3"
   },
   "outputs": [
    {
     "data": {
      "text/plain": [
       "84.67251051893406"
      ]
     },
     "execution_count": 38,
     "metadata": {},
     "output_type": "execute_result"
    }
   ],
   "source": [
    "# Covariance\n",
    "sel_df['RS'].cov(sel_df['SEC'])"
   ]
  },
  {
   "cell_type": "markdown",
   "metadata": {
    "id": "V-neZ3zOVap7"
   },
   "source": [
    "Please see the section labeled \"Summary and Analysis\" for interpretations on the two scatterplots and correlation analyses above. "
   ]
  },
  {
   "cell_type": "markdown",
   "metadata": {
    "id": "cYIojFgVWirS"
   },
   "source": [
    "# Hypothesis Testing"
   ]
  },
  {
   "cell_type": "markdown",
   "metadata": {
    "id": "GQtcsDaMWmut"
   },
   "source": [
    "Statistical Question:\n",
    "\n",
    "\n",
    "> Null Hypothesis: The RS test scores do not impact the SEC composite scores (There is no correlation between RS test scores and SEC test scores)\n",
    "\n",
    "> Alternative Hypotheis: The RS test scores impact the SEC composite score\n",
    "\n",
    "\n",
    "\n"
   ]
  },
  {
   "cell_type": "code",
   "execution_count": 39,
   "metadata": {
    "colab": {
     "base_uri": "https://localhost:8080/"
    },
    "id": "6wE1PI4EvX6r",
    "outputId": "38341ac4-4727-453b-ee94-69b15bad8921"
   },
   "outputs": [
    {
     "name": "stdout",
     "output_type": "stream",
     "text": [
      "stat=0.838, p=0.000\n"
     ]
    }
   ],
   "source": [
    "# Run a Pearson Correlation Hypothesis Test\n",
    "from scipy.stats import pearsonr\n",
    "data1 = sel_df['RS']\n",
    "data2 = sel_df['SEC']\n",
    "stat, p = pearsonr(data1, data2)\n",
    "print('stat=%.3f, p=%.3f' % (stat, p))"
   ]
  },
  {
   "cell_type": "markdown",
   "metadata": {
    "id": "XaiNMjdbvy3k"
   },
   "source": [
    "With a P value < 0.05 we can reject the null hypothesis that the RS score does not impact the SEC composite score. However, we need to be very careful with this result. Since the composite score was built using strand scores, the variables were not independent from the beginning."
   ]
  },
  {
   "cell_type": "markdown",
   "metadata": {
    "id": "p-TtL60jxMll"
   },
   "source": [
    "# Regression Analysis"
   ]
  },
  {
   "cell_type": "code",
   "execution_count": 40,
   "metadata": {
    "colab": {
     "base_uri": "https://localhost:8080/"
    },
    "id": "sWF-mpygxUXy",
    "outputId": "42c02397-16d0-4b50-d987-94cbadaae5d4"
   },
   "outputs": [
    {
     "name": "stdout",
     "output_type": "stream",
     "text": [
      "                            OLS Regression Results                            \n",
      "==============================================================================\n",
      "Dep. Variable:                    SEC   R-squared:                       0.702\n",
      "Model:                            OLS   Adj. R-squared:                  0.699\n",
      "Method:                 Least Squares   F-statistic:                     214.8\n",
      "Date:                Thu, 06 Jul 2023   Prob (F-statistic):           1.12e-25\n",
      "Time:                        17:23:39   Log-Likelihood:                -290.47\n",
      "No. Observations:                  93   AIC:                             584.9\n",
      "Df Residuals:                      91   BIC:                             590.0\n",
      "Df Model:                           1                                         \n",
      "Covariance Type:            nonrobust                                         \n",
      "==============================================================================\n",
      "                 coef    std err          t      P>|t|      [0.025      0.975]\n",
      "------------------------------------------------------------------------------\n",
      "Intercept      3.8748      2.785      1.391      0.168      -1.657       9.407\n",
      "RS             0.8518      0.058     14.655      0.000       0.736       0.967\n",
      "==============================================================================\n",
      "Omnibus:                        1.195   Durbin-Watson:                   1.884\n",
      "Prob(Omnibus):                  0.550   Jarque-Bera (JB):                0.694\n",
      "Skew:                          -0.160   Prob(JB):                        0.707\n",
      "Kurtosis:                       3.278   Cond. No.                         232.\n",
      "==============================================================================\n",
      "\n",
      "Notes:\n",
      "[1] Standard Errors assume that the covariance matrix of the errors is correctly specified.\n"
     ]
    }
   ],
   "source": [
    "# code adapted from book \"Think Stats 2nd Edition\" pgs 130-131 \n",
    "\n",
    "# Stats model: Independent variable is RS, Dependent variable is SEC\n",
    "import statsmodels.formula.api as smf\n",
    "\n",
    "formula = 'SEC ~ RS'\n",
    "model = smf.ols(formula, data = sel_df)\n",
    "results = model.fit()\n",
    "\n",
    "inter = results.params['Intercept']\n",
    "slope = results.params['RS']\n",
    "\n",
    "slope_pvalue = results.pvalues['RS']\n",
    "\n",
    "print(results.summary())"
   ]
  },
  {
   "cell_type": "markdown",
   "metadata": {
    "id": "2LHGwH94NuQ2"
   },
   "source": [
    "# Summary and Analysis"
   ]
  },
  {
   "cell_type": "markdown",
   "metadata": {
    "id": "wKBa6tMzNw-y"
   },
   "source": [
    "For this project wondered if Relationship Skill scores impact the composite SEC scores using data from the Dessa survey administered to my students in the Fall of 2022. Finding a direct relationship would lead me to experimenting with implementation of relationship skill strategies in my classroom with the hopes of increasing overall social-emotional wellbeing. \n"
   ]
  },
  {
   "cell_type": "markdown",
   "metadata": {
    "id": "h3x47i4MOdy5"
   },
   "source": [
    "The first analysis was to create basic histograms on the variables to analyze distributions and outliers. Based on the histogram visuals, there are no outliers that need to be considered within the data. Visually, the data does not look quite normal, so caution will need to be taken with further testing and conclusions. "
   ]
  },
  {
   "cell_type": "markdown",
   "metadata": {
    "id": "eeSnS_I8RZ6u"
   },
   "source": [
    "Next, two scatterplots were created. The first comparison was Self-Awareness/Optimistic Thinking (SA/OT) on the composite SEL score (SEC). The correlation was 0.91 using Pearson's correlation coeeficient. I also calculated Spearman's correlation coefficent, since the previous analysis showed some skewness. The result was 0.90. Both of these values show a strong positive correlation. The covariance value of 94.9 confirmed a positive correlation. I used Pearson's correlation to calculate the correlation coefficient, r^2, on this relationship. The results suggest that SA/OT accounts for 82% of the variation in SEC scores. \n",
    "\n",
    "The second scatterplot compared the effects of Relationship Skill scores (RS) on the composite SEL score (SEC). This time both Pearson's correlation and Spearman's correlation calculated at 0.84. Since these values are the same, there is a good chance that a linear model is an adequate choice. The covariance result of 84.7 again confirms a positive correlation. I used Pearson's correlation to calculate the correlation coefficient, r^2, on this relationship as well. The results suggest that RS accounts for 70% of the variation in SEC scores. \n",
    "\n",
    "To summarize, neither SA/OT nor RS scores cause the SEC scores, however both are highly correlated and can be used to predict composite scores. "
   ]
  },
  {
   "cell_type": "markdown",
   "metadata": {
    "id": "EClvCP-A16qj"
   },
   "source": [
    "Lastly, I conducted a hypothesis test using the following hypotheses:\n",
    "\n",
    "> Null Hypothesis: The RS test scores do not impact the SEC composite scores (There is no correlation between RS test scores and SEC test scores)\n",
    "\n",
    "> Alternative Hypotheis: The RS test scores impact the SEC composite score\n",
    "\n",
    "The resulting P-value  of 0.0, which is less than the significant value of 0.05, leads me to reject the null hypothesis that the RS score does not impact the SEC composite score. However, we need to be very careful with this result. Since the composite score was built using strand scores, the variables were not independent from the beginning.\n"
   ]
  },
  {
   "cell_type": "markdown",
   "metadata": {
    "id": "_YsC_dOG2t4N"
   },
   "source": [
    "I do not believe there were any missing variables in this analysis. I did make an incorrect assumption, however. From the very beginning, I missed the fact that composite scores were built from strand scores. This led to analysis on variables that were not independent from eachother resulting in skewed or misleading results."
   ]
  },
  {
   "cell_type": "markdown",
   "metadata": {
    "id": "mpjGI6CW3pvO"
   },
   "source": [
    "This project was difficult since much of the author's examples were from self-created coding. I spent a significant amount of time researching more widely used methods that were pulled from packages such as seaborn, pandas, matplotlib.pyplot, and scipy.stats. The most challenging section was the analytical distribution from chapter 5. I plan on spending time beyond this course to solidify knowledge in this area."
   ]
  }
 ],
 "metadata": {
  "colab": {
   "provenance": []
  },
  "kernelspec": {
   "display_name": "Python 3 (ipykernel)",
   "language": "python",
   "name": "python3"
  },
  "language_info": {
   "codemirror_mode": {
    "name": "ipython",
    "version": 3
   },
   "file_extension": ".py",
   "mimetype": "text/x-python",
   "name": "python",
   "nbconvert_exporter": "python",
   "pygments_lexer": "ipython3",
   "version": "3.9.12"
  }
 },
 "nbformat": 4,
 "nbformat_minor": 1
}
